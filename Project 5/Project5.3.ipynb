{
 "cells": [
  {
   "cell_type": "markdown",
   "metadata": {},
   "source": [
    "# The BayWheels Trip Data\n",
    "## by Alanoud Almutairi\n",
    "\n",
    "## Preliminary Wrangling\n",
    "\n",
    "> The data is information about a bike renting app, this data provides infomation like the age of the user, duration of the use, gender of the user, and more. "
   ]
  },
  {
   "cell_type": "code",
   "execution_count": 1,
   "metadata": {},
   "outputs": [],
   "source": [
    "# import all packages and set plots to be embedded inline\n",
    "import numpy as np\n",
    "import pandas as pd\n",
    "import matplotlib.pyplot as plt\n",
    "import seaborn as sb\n",
    "\n",
    "%matplotlib inline"
   ]
  },
  {
   "cell_type": "code",
   "execution_count": 2,
   "metadata": {},
   "outputs": [
    {
     "data": {
      "text/html": [
       "<div>\n",
       "<style scoped>\n",
       "    .dataframe tbody tr th:only-of-type {\n",
       "        vertical-align: middle;\n",
       "    }\n",
       "\n",
       "    .dataframe tbody tr th {\n",
       "        vertical-align: top;\n",
       "    }\n",
       "\n",
       "    .dataframe thead th {\n",
       "        text-align: right;\n",
       "    }\n",
       "</style>\n",
       "<table border=\"1\" class=\"dataframe\">\n",
       "  <thead>\n",
       "    <tr style=\"text-align: right;\">\n",
       "      <th></th>\n",
       "      <th>duration_sec</th>\n",
       "      <th>start_time</th>\n",
       "      <th>end_time</th>\n",
       "      <th>start_station_id</th>\n",
       "      <th>start_station_name</th>\n",
       "      <th>start_station_latitude</th>\n",
       "      <th>start_station_longitude</th>\n",
       "      <th>end_station_id</th>\n",
       "      <th>end_station_name</th>\n",
       "      <th>end_station_latitude</th>\n",
       "      <th>end_station_longitude</th>\n",
       "      <th>bike_id</th>\n",
       "      <th>user_type</th>\n",
       "      <th>member_birth_year</th>\n",
       "      <th>member_gender</th>\n",
       "      <th>bike_share_for_all_trip</th>\n",
       "    </tr>\n",
       "  </thead>\n",
       "  <tbody>\n",
       "    <tr>\n",
       "      <th>0</th>\n",
       "      <td>48877</td>\n",
       "      <td>2019-05-31 20:34:56.8110</td>\n",
       "      <td>2019-06-01 10:09:34.7960</td>\n",
       "      <td>321.0</td>\n",
       "      <td>5th St at Folsom</td>\n",
       "      <td>37.780146</td>\n",
       "      <td>-122.403071</td>\n",
       "      <td>60.0</td>\n",
       "      <td>8th St at Ringold St</td>\n",
       "      <td>37.774520</td>\n",
       "      <td>-122.409449</td>\n",
       "      <td>1416</td>\n",
       "      <td>Customer</td>\n",
       "      <td>1990.0</td>\n",
       "      <td>Female</td>\n",
       "      <td>No</td>\n",
       "    </tr>\n",
       "    <tr>\n",
       "      <th>1</th>\n",
       "      <td>47050</td>\n",
       "      <td>2019-05-31 19:43:56.1960</td>\n",
       "      <td>2019-06-01 08:48:06.9190</td>\n",
       "      <td>246.0</td>\n",
       "      <td>Berkeley Civic Center</td>\n",
       "      <td>37.869060</td>\n",
       "      <td>-122.270556</td>\n",
       "      <td>266.0</td>\n",
       "      <td>Parker St at Fulton St</td>\n",
       "      <td>37.862464</td>\n",
       "      <td>-122.264791</td>\n",
       "      <td>1797</td>\n",
       "      <td>Subscriber</td>\n",
       "      <td>1994.0</td>\n",
       "      <td>Male</td>\n",
       "      <td>No</td>\n",
       "    </tr>\n",
       "    <tr>\n",
       "      <th>2</th>\n",
       "      <td>5912</td>\n",
       "      <td>2019-05-31 23:54:24.0890</td>\n",
       "      <td>2019-06-01 01:32:56.9820</td>\n",
       "      <td>149.0</td>\n",
       "      <td>Emeryville Town Hall</td>\n",
       "      <td>37.831275</td>\n",
       "      <td>-122.285633</td>\n",
       "      <td>149.0</td>\n",
       "      <td>Emeryville Town Hall</td>\n",
       "      <td>37.831275</td>\n",
       "      <td>-122.285633</td>\n",
       "      <td>3612</td>\n",
       "      <td>Customer</td>\n",
       "      <td>1988.0</td>\n",
       "      <td>Male</td>\n",
       "      <td>No</td>\n",
       "    </tr>\n",
       "    <tr>\n",
       "      <th>3</th>\n",
       "      <td>2629</td>\n",
       "      <td>2019-05-31 23:59:57.4490</td>\n",
       "      <td>2019-06-01 00:43:46.8740</td>\n",
       "      <td>186.0</td>\n",
       "      <td>Lakeside Dr at 14th St</td>\n",
       "      <td>37.801319</td>\n",
       "      <td>-122.262642</td>\n",
       "      <td>186.0</td>\n",
       "      <td>Lakeside Dr at 14th St</td>\n",
       "      <td>37.801319</td>\n",
       "      <td>-122.262642</td>\n",
       "      <td>2333</td>\n",
       "      <td>Customer</td>\n",
       "      <td>1998.0</td>\n",
       "      <td>Male</td>\n",
       "      <td>No</td>\n",
       "    </tr>\n",
       "    <tr>\n",
       "      <th>4</th>\n",
       "      <td>4235</td>\n",
       "      <td>2019-05-31 23:05:48.9320</td>\n",
       "      <td>2019-06-01 00:16:24.4570</td>\n",
       "      <td>34.0</td>\n",
       "      <td>Father Alfred E Boeddeker Park</td>\n",
       "      <td>37.783988</td>\n",
       "      <td>-122.412408</td>\n",
       "      <td>368.0</td>\n",
       "      <td>Myrtle St at Polk St</td>\n",
       "      <td>37.785434</td>\n",
       "      <td>-122.419622</td>\n",
       "      <td>181</td>\n",
       "      <td>Subscriber</td>\n",
       "      <td>1967.0</td>\n",
       "      <td>Male</td>\n",
       "      <td>No</td>\n",
       "    </tr>\n",
       "  </tbody>\n",
       "</table>\n",
       "</div>"
      ],
      "text/plain": [
       "   duration_sec                start_time                  end_time  \\\n",
       "0         48877  2019-05-31 20:34:56.8110  2019-06-01 10:09:34.7960   \n",
       "1         47050  2019-05-31 19:43:56.1960  2019-06-01 08:48:06.9190   \n",
       "2          5912  2019-05-31 23:54:24.0890  2019-06-01 01:32:56.9820   \n",
       "3          2629  2019-05-31 23:59:57.4490  2019-06-01 00:43:46.8740   \n",
       "4          4235  2019-05-31 23:05:48.9320  2019-06-01 00:16:24.4570   \n",
       "\n",
       "   start_station_id              start_station_name  start_station_latitude  \\\n",
       "0             321.0                5th St at Folsom               37.780146   \n",
       "1             246.0           Berkeley Civic Center               37.869060   \n",
       "2             149.0            Emeryville Town Hall               37.831275   \n",
       "3             186.0          Lakeside Dr at 14th St               37.801319   \n",
       "4              34.0  Father Alfred E Boeddeker Park               37.783988   \n",
       "\n",
       "   start_station_longitude  end_station_id        end_station_name  \\\n",
       "0              -122.403071            60.0    8th St at Ringold St   \n",
       "1              -122.270556           266.0  Parker St at Fulton St   \n",
       "2              -122.285633           149.0    Emeryville Town Hall   \n",
       "3              -122.262642           186.0  Lakeside Dr at 14th St   \n",
       "4              -122.412408           368.0    Myrtle St at Polk St   \n",
       "\n",
       "   end_station_latitude  end_station_longitude  bike_id   user_type  \\\n",
       "0             37.774520            -122.409449     1416    Customer   \n",
       "1             37.862464            -122.264791     1797  Subscriber   \n",
       "2             37.831275            -122.285633     3612    Customer   \n",
       "3             37.801319            -122.262642     2333    Customer   \n",
       "4             37.785434            -122.419622      181  Subscriber   \n",
       "\n",
       "   member_birth_year member_gender bike_share_for_all_trip  \n",
       "0             1990.0        Female                      No  \n",
       "1             1994.0          Male                      No  \n",
       "2             1988.0          Male                      No  \n",
       "3             1998.0          Male                      No  \n",
       "4             1967.0          Male                      No  "
      ]
     },
     "execution_count": 2,
     "metadata": {},
     "output_type": "execute_result"
    }
   ],
   "source": [
    "df = pd.read_csv('201905-baywheels-tripdata.csv')\n",
    "df.head()"
   ]
  },
  {
   "cell_type": "code",
   "execution_count": 3,
   "metadata": {},
   "outputs": [
    {
     "data": {
      "text/plain": [
       "(182163, 16)"
      ]
     },
     "execution_count": 3,
     "metadata": {},
     "output_type": "execute_result"
    }
   ],
   "source": [
    "df.shape # To check the number of columns and records"
   ]
  },
  {
   "cell_type": "code",
   "execution_count": 4,
   "metadata": {},
   "outputs": [
    {
     "data": {
      "text/plain": [
       "Index(['duration_sec', 'start_time', 'end_time', 'start_station_id',\n",
       "       'start_station_name', 'start_station_latitude',\n",
       "       'start_station_longitude', 'end_station_id', 'end_station_name',\n",
       "       'end_station_latitude', 'end_station_longitude', 'bike_id', 'user_type',\n",
       "       'member_birth_year', 'member_gender', 'bike_share_for_all_trip'],\n",
       "      dtype='object')"
      ]
     },
     "execution_count": 4,
     "metadata": {},
     "output_type": "execute_result"
    }
   ],
   "source": [
    "df.columns"
   ]
  },
  {
   "cell_type": "code",
   "execution_count": 5,
   "metadata": {},
   "outputs": [
    {
     "name": "stdout",
     "output_type": "stream",
     "text": [
      "<class 'pandas.core.frame.DataFrame'>\n",
      "RangeIndex: 182163 entries, 0 to 182162\n",
      "Data columns (total 16 columns):\n",
      "duration_sec               182163 non-null int64\n",
      "start_time                 182163 non-null object\n",
      "end_time                   182163 non-null object\n",
      "start_station_id           182148 non-null float64\n",
      "start_station_name         182148 non-null object\n",
      "start_station_latitude     182163 non-null float64\n",
      "start_station_longitude    182163 non-null float64\n",
      "end_station_id             182148 non-null float64\n",
      "end_station_name           182148 non-null object\n",
      "end_station_latitude       182163 non-null float64\n",
      "end_station_longitude      182163 non-null float64\n",
      "bike_id                    182163 non-null int64\n",
      "user_type                  182163 non-null object\n",
      "member_birth_year          173694 non-null float64\n",
      "member_gender              173697 non-null object\n",
      "bike_share_for_all_trip    182163 non-null object\n",
      "dtypes: float64(7), int64(2), object(7)\n",
      "memory usage: 22.2+ MB\n"
     ]
    }
   ],
   "source": [
    "df.info() #found some null values that can not be filled"
   ]
  },
  {
   "cell_type": "code",
   "execution_count": 6,
   "metadata": {},
   "outputs": [
    {
     "data": {
      "text/html": [
       "<div>\n",
       "<style scoped>\n",
       "    .dataframe tbody tr th:only-of-type {\n",
       "        vertical-align: middle;\n",
       "    }\n",
       "\n",
       "    .dataframe tbody tr th {\n",
       "        vertical-align: top;\n",
       "    }\n",
       "\n",
       "    .dataframe thead th {\n",
       "        text-align: right;\n",
       "    }\n",
       "</style>\n",
       "<table border=\"1\" class=\"dataframe\">\n",
       "  <thead>\n",
       "    <tr style=\"text-align: right;\">\n",
       "      <th></th>\n",
       "      <th>duration_sec</th>\n",
       "      <th>start_station_id</th>\n",
       "      <th>start_station_latitude</th>\n",
       "      <th>start_station_longitude</th>\n",
       "      <th>end_station_id</th>\n",
       "      <th>end_station_latitude</th>\n",
       "      <th>end_station_longitude</th>\n",
       "      <th>bike_id</th>\n",
       "      <th>member_birth_year</th>\n",
       "    </tr>\n",
       "  </thead>\n",
       "  <tbody>\n",
       "    <tr>\n",
       "      <th>count</th>\n",
       "      <td>182163.000000</td>\n",
       "      <td>182148.000000</td>\n",
       "      <td>182163.000000</td>\n",
       "      <td>182163.000000</td>\n",
       "      <td>182148.000000</td>\n",
       "      <td>182163.000000</td>\n",
       "      <td>182163.000000</td>\n",
       "      <td>182163.000000</td>\n",
       "      <td>173694.000000</td>\n",
       "    </tr>\n",
       "    <tr>\n",
       "      <th>mean</th>\n",
       "      <td>792.261744</td>\n",
       "      <td>141.369480</td>\n",
       "      <td>37.763583</td>\n",
       "      <td>-122.346701</td>\n",
       "      <td>139.308118</td>\n",
       "      <td>37.763770</td>\n",
       "      <td>-122.345875</td>\n",
       "      <td>1964.698753</td>\n",
       "      <td>1984.383260</td>\n",
       "    </tr>\n",
       "    <tr>\n",
       "      <th>std</th>\n",
       "      <td>1824.190023</td>\n",
       "      <td>117.435373</td>\n",
       "      <td>0.112150</td>\n",
       "      <td>0.129110</td>\n",
       "      <td>117.210619</td>\n",
       "      <td>0.111985</td>\n",
       "      <td>0.128349</td>\n",
       "      <td>1136.197266</td>\n",
       "      <td>10.299198</td>\n",
       "    </tr>\n",
       "    <tr>\n",
       "      <th>min</th>\n",
       "      <td>61.000000</td>\n",
       "      <td>3.000000</td>\n",
       "      <td>37.311284</td>\n",
       "      <td>-122.453704</td>\n",
       "      <td>3.000000</td>\n",
       "      <td>37.311284</td>\n",
       "      <td>-122.453704</td>\n",
       "      <td>12.000000</td>\n",
       "      <td>1896.000000</td>\n",
       "    </tr>\n",
       "    <tr>\n",
       "      <th>25%</th>\n",
       "      <td>357.000000</td>\n",
       "      <td>44.000000</td>\n",
       "      <td>37.770030</td>\n",
       "      <td>-122.411738</td>\n",
       "      <td>42.000000</td>\n",
       "      <td>37.770407</td>\n",
       "      <td>-122.410662</td>\n",
       "      <td>1025.000000</td>\n",
       "      <td>1980.000000</td>\n",
       "    </tr>\n",
       "    <tr>\n",
       "      <th>50%</th>\n",
       "      <td>568.000000</td>\n",
       "      <td>101.000000</td>\n",
       "      <td>37.780526</td>\n",
       "      <td>-122.397437</td>\n",
       "      <td>98.000000</td>\n",
       "      <td>37.780955</td>\n",
       "      <td>-122.396906</td>\n",
       "      <td>1930.000000</td>\n",
       "      <td>1987.000000</td>\n",
       "    </tr>\n",
       "    <tr>\n",
       "      <th>75%</th>\n",
       "      <td>882.000000</td>\n",
       "      <td>240.000000</td>\n",
       "      <td>37.796248</td>\n",
       "      <td>-122.285171</td>\n",
       "      <td>238.000000</td>\n",
       "      <td>37.797280</td>\n",
       "      <td>-122.288665</td>\n",
       "      <td>2977.000000</td>\n",
       "      <td>1992.000000</td>\n",
       "    </tr>\n",
       "    <tr>\n",
       "      <th>max</th>\n",
       "      <td>84967.000000</td>\n",
       "      <td>427.000000</td>\n",
       "      <td>37.880222</td>\n",
       "      <td>-121.870099</td>\n",
       "      <td>427.000000</td>\n",
       "      <td>37.880222</td>\n",
       "      <td>-121.870099</td>\n",
       "      <td>7196.000000</td>\n",
       "      <td>2001.000000</td>\n",
       "    </tr>\n",
       "  </tbody>\n",
       "</table>\n",
       "</div>"
      ],
      "text/plain": [
       "        duration_sec  start_station_id  start_station_latitude  \\\n",
       "count  182163.000000     182148.000000           182163.000000   \n",
       "mean      792.261744        141.369480               37.763583   \n",
       "std      1824.190023        117.435373                0.112150   \n",
       "min        61.000000          3.000000               37.311284   \n",
       "25%       357.000000         44.000000               37.770030   \n",
       "50%       568.000000        101.000000               37.780526   \n",
       "75%       882.000000        240.000000               37.796248   \n",
       "max     84967.000000        427.000000               37.880222   \n",
       "\n",
       "       start_station_longitude  end_station_id  end_station_latitude  \\\n",
       "count            182163.000000   182148.000000         182163.000000   \n",
       "mean               -122.346701      139.308118             37.763770   \n",
       "std                   0.129110      117.210619              0.111985   \n",
       "min                -122.453704        3.000000             37.311284   \n",
       "25%                -122.411738       42.000000             37.770407   \n",
       "50%                -122.397437       98.000000             37.780955   \n",
       "75%                -122.285171      238.000000             37.797280   \n",
       "max                -121.870099      427.000000             37.880222   \n",
       "\n",
       "       end_station_longitude        bike_id  member_birth_year  \n",
       "count          182163.000000  182163.000000      173694.000000  \n",
       "mean             -122.345875    1964.698753        1984.383260  \n",
       "std                 0.128349    1136.197266          10.299198  \n",
       "min              -122.453704      12.000000        1896.000000  \n",
       "25%              -122.410662    1025.000000        1980.000000  \n",
       "50%              -122.396906    1930.000000        1987.000000  \n",
       "75%              -122.288665    2977.000000        1992.000000  \n",
       "max              -121.870099    7196.000000        2001.000000  "
      ]
     },
     "execution_count": 6,
     "metadata": {},
     "output_type": "execute_result"
    }
   ],
   "source": [
    "df.describe()"
   ]
  },
  {
   "cell_type": "code",
   "execution_count": 7,
   "metadata": {},
   "outputs": [],
   "source": [
    "df.dropna(inplace = True) # I dropped them"
   ]
  },
  {
   "cell_type": "code",
   "execution_count": 8,
   "metadata": {},
   "outputs": [
    {
     "name": "stdout",
     "output_type": "stream",
     "text": [
      "<class 'pandas.core.frame.DataFrame'>\n",
      "Int64Index: 173679 entries, 0 to 182162\n",
      "Data columns (total 16 columns):\n",
      "duration_sec               173679 non-null int64\n",
      "start_time                 173679 non-null object\n",
      "end_time                   173679 non-null object\n",
      "start_station_id           173679 non-null float64\n",
      "start_station_name         173679 non-null object\n",
      "start_station_latitude     173679 non-null float64\n",
      "start_station_longitude    173679 non-null float64\n",
      "end_station_id             173679 non-null float64\n",
      "end_station_name           173679 non-null object\n",
      "end_station_latitude       173679 non-null float64\n",
      "end_station_longitude      173679 non-null float64\n",
      "bike_id                    173679 non-null int64\n",
      "user_type                  173679 non-null object\n",
      "member_birth_year          173679 non-null float64\n",
      "member_gender              173679 non-null object\n",
      "bike_share_for_all_trip    173679 non-null object\n",
      "dtypes: float64(7), int64(2), object(7)\n",
      "memory usage: 22.5+ MB\n"
     ]
    }
   ],
   "source": [
    "df.info() #chacking the null values removed."
   ]
  },
  {
   "cell_type": "markdown",
   "metadata": {},
   "source": [
    "### What is the structure of your dataset?\n",
    "\n",
    "\n",
    "> The data is csv file. there's 16 columns ('duration_sec', 'start_time', 'end_time', 'start_station_id','start_station_name', 'start_station_latitude','start_station_longitude', 'end_station_id', 'end_station_name','end_station_latitude', 'end_station_longitude', 'bike_id', 'user_type','member_birth_year', 'member_gender','bike_share_for_all_trip') and 173679 records of data.\n",
    "### What is/are the main feature(s) of interest in your dataset?\n",
    "\n",
    "> Getting to know who uses baywheels the most to anwser some questions like.\n",
    "What gender uses the service the most?\n",
    "What is the range of ages most users fall in?\n",
    "What is the subscriber to the non-subscriber ratio in the dataset?\n",
    "\n",
    "> so the I'm interested in gender, age, and membership\n",
    "\n",
    "\n",
    "### What features in the dataset do you think will help support your investigation into your feature(s) of interest?\n",
    "\n",
    "> To get to know who uses baywheels the most is going to be depending on the duration and if he/she Subscriber or not."
   ]
  },
  {
   "cell_type": "markdown",
   "metadata": {},
   "source": [
    "## Univariate Exploration\n"
   ]
  },
  {
   "cell_type": "code",
   "execution_count": 26,
   "metadata": {},
   "outputs": [
    {
     "data": {
      "image/png": "[encoded data removed]",
      "text/plain": [
       "<Figure size 432x288 with 1 Axes>"
      ]
     },
     "metadata": {
      "needs_background": "light"
     },
     "output_type": "display_data"
    }
   ],
   "source": [
    "binsize = 200 #set bin size for the plot\n",
    "ticks = np.arange(0,4000,250) # using ticks to make the x easy to read\n",
    "bins = np.arange(0, df.duration_sec.max()+binsize, binsize)\n",
    "plt.hist(df.duration_sec, bins = bins);\n",
    "plt.xlim(0,4000)\n",
    "plt.xticks(ticks,rotation = 45);\n",
    "plt.xlabel('Duration in second')\n",
    "plt.ylabel('Number of Users')\n",
    "plt.title('Count The Frequency of Duration in Seconds');"
   ]
  },
  {
   "cell_type": "markdown",
   "metadata": {},
   "source": [
    "#### We can see here that most of the people around 500 second ~8.3 minutes"
   ]
  },
  {
   "cell_type": "code",
   "execution_count": 22,
   "metadata": {
    "scrolled": true
   },
   "outputs": [
    {
     "data": {
      "image/png": "[encoded data removed]",
      "text/plain": [
       "<Figure size 432x288 with 1 Axes>"
      ]
     },
     "metadata": {
      "needs_background": "light"
     },
     "output_type": "display_data"
    }
   ],
   "source": [
    "base_color = sb.color_palette()[0] # set a fix color for all plots\n",
    "sb.countplot(data = df, x = 'user_type', color = base_color);\n",
    "plt.ylabel('Number of Users')\n",
    "plt.title('Count Number of Each Type of Users');"
   ]
  },
  {
   "cell_type": "markdown",
   "metadata": {},
   "source": [
    "#### The majority of the users are subscriber, which is good."
   ]
  },
  {
   "cell_type": "code",
   "execution_count": 27,
   "metadata": {
    "scrolled": true
   },
   "outputs": [
    {
     "data": {
      "image/png": "[encoded data removed]",
      "text/plain": [
       "<Figure size 432x288 with 1 Axes>"
      ]
     },
     "metadata": {
      "needs_background": "light"
     },
     "output_type": "display_data"
    }
   ],
   "source": [
    "sb.countplot(data = df, x = 'member_gender', color = base_color);\n",
    "plt.ylabel('Number of Users')\n",
    "plt.title('Count Number of Each Gender');"
   ]
  },
  {
   "cell_type": "markdown",
   "metadata": {},
   "source": [
    "#### Majority of the users are male."
   ]
  },
  {
   "cell_type": "code",
   "execution_count": 29,
   "metadata": {},
   "outputs": [
    {
     "data": {
      "image/png": "[encoded data removed]",
      "text/plain": [
       "<Figure size 576x576 with 1 Axes>"
      ]
     },
     "metadata": {
      "needs_background": "light"
     },
     "output_type": "display_data"
    }
   ],
   "source": [
    "maxsize=2000\n",
    "ticks = np.arange(1940,maxsize+5,5)\n",
    "plt.figure(figsize=(8,8))\n",
    "plt.hist(data= df , x='member_birth_year',bins = 100);\n",
    "plt.xticks(ticks);\n",
    "plt.xlim(1940,None);\n",
    "plt.ylabel('Number of Users')\n",
    "plt.xlabel('Years')\n",
    "plt.title('Count Number of Users Depending on Year of Birth');"
   ]
  },
  {
   "cell_type": "markdown",
   "metadata": {},
   "source": [
    "#### I want to take a closer look so i'll limit more years to get the most frequent users' ages."
   ]
  },
  {
   "cell_type": "code",
   "execution_count": 30,
   "metadata": {},
   "outputs": [
    {
     "data": {
      "image/png": "[encoded data removed]",
      "text/plain": [
       "<Figure size 576x576 with 1 Axes>"
      ]
     },
     "metadata": {
      "needs_background": "light"
     },
     "output_type": "display_data"
    }
   ],
   "source": [
    "maxsize= 2000\n",
    "ticks = np.arange(1980,maxsize+5,2)\n",
    "plt.figure(figsize=(8,8))\n",
    "plt.hist(data= df , x='member_birth_year',bins = 100);\n",
    "plt.xticks(ticks);\n",
    "plt.xlim(1980,None);\n",
    "plt.ylabel('Number of Users')\n",
    "plt.xlabel('Years')\n",
    "plt.title('Count Number of Users Depending on Year of Birth');"
   ]
  },
  {
   "cell_type": "markdown",
   "metadata": {},
   "source": [
    "#### Most of the users fall between 1987 - 1997 with a spike in the year 1980 (could be the default year on the sign-in page)."
   ]
  },
  {
   "cell_type": "code",
   "execution_count": 31,
   "metadata": {},
   "outputs": [
    {
     "data": {
      "image/png": "[encoded data removed]",
      "text/plain": [
       "<Figure size 432x288 with 1 Axes>"
      ]
     },
     "metadata": {
      "needs_background": "light"
     },
     "output_type": "display_data"
    }
   ],
   "source": [
    "plt.boxplot(df.duration_sec); # exploring the outliers"
   ]
  },
  {
   "cell_type": "markdown",
   "metadata": {},
   "source": [
    "#### There're alot of outliers"
   ]
  },
  {
   "cell_type": "markdown",
   "metadata": {},
   "source": [
    "### Discuss the distribution(s) of your variable(s) of interest. Were there any unusual points? Did you need to perform any transformations?\n",
    "\n",
    "> Your answer here!\n",
    "The distribution is not normal and, there're alot of outliers.\n",
    "\n",
    "### Of the features you investigated, were there any unusual distributions? Did you perform any operations on the data to tidy, adjust, or change the form of the data? If so, why did you do this?\n",
    "\n",
    "\n",
    "> We can see that the ages are sewed to the left, but that's normal since biking requires a physical strength.\n",
    "> The male to female ratio is not equal, there are more males using the service\n",
    "> I removed the null values since I can't fill it."
   ]
  },
  {
   "cell_type": "markdown",
   "metadata": {},
   "source": [
    "## Bivariate Exploration\n"
   ]
  },
  {
   "cell_type": "code",
   "execution_count": 37,
   "metadata": {
    "scrolled": true
   },
   "outputs": [
    {
     "data": {
      "text/plain": [
       "Text(0, 0.5, 'Duraiton in second')"
      ]
     },
     "execution_count": 37,
     "metadata": {},
     "output_type": "execute_result"
    },
    {
     "data": {
      "image/png": "[encoded data removed]",
      "text/plain": [
       "<Figure size 432x288 with 1 Axes>"
      ]
     },
     "metadata": {
      "needs_background": "light"
     },
     "output_type": "display_data"
    }
   ],
   "source": [
    "sb.boxplot(data=df,y='duration_sec',x='user_type',showfliers=False,color = base_color); # using the box plot to plot the duration for each user type\n",
    "plt.title('Duration of Riding for Each Type of User')\n",
    "plt.xlabel('User Type')\n",
    "plt.ylabel('Duraiton in second');"
   ]
  },
  {
   "cell_type": "code",
   "execution_count": 38,
   "metadata": {},
   "outputs": [
    {
     "data": {
      "text/plain": [
       "Text(0, 0.5, 'Duration in second')"
      ]
     },
     "execution_count": 38,
     "metadata": {},
     "output_type": "execute_result"
    },
    {
     "data": {
      "image/png": "[encoded data removed]",
      "text/plain": [
       "<Figure size 432x288 with 1 Axes>"
      ]
     },
     "metadata": {
      "needs_background": "light"
     },
     "output_type": "display_data"
    }
   ],
   "source": [
    "sb.violinplot(data=df,y='duration_sec',x='user_type',color = base_color); # using the violin plot to plot the duration for each user type\n",
    "plt.ylim(0,5000)\n",
    "plt.title('Duration of Riding for Each Type of User')\n",
    "plt.ylabel('Duration in second');"
   ]
  },
  {
   "cell_type": "markdown",
   "metadata": {},
   "source": [
    " #### We can see that most of the are subsribers, but they use the service less duration than customer (non-subsribers) "
   ]
  },
  {
   "cell_type": "code",
   "execution_count": 39,
   "metadata": {},
   "outputs": [
    {
     "data": {
      "text/plain": [
       "Text(0.5, 1.0, 'Duration of Riding for Each Gender')"
      ]
     },
     "execution_count": 39,
     "metadata": {},
     "output_type": "execute_result"
    },
    {
     "data": {
      "image/png": "[encoded data removed]",
      "text/plain": [
       "<Figure size 432x288 with 1 Axes>"
      ]
     },
     "metadata": {
      "needs_background": "light"
     },
     "output_type": "display_data"
    }
   ],
   "source": [
    "sb.boxplot(data=df,y='duration_sec',x=df.member_gender,showfliers=False,color = base_color); # using the box plot to plot the duration for each gender\n",
    "plt.ylabel('Duration in second')\n",
    "plt.title('Duration of Riding for Each Gender');"
   ]
  },
  {
   "cell_type": "markdown",
   "metadata": {},
   "source": [
    "#### Male users use the serivce more than other."
   ]
  },
  {
   "cell_type": "markdown",
   "metadata": {},
   "source": [
    "### Talk about some of the relationships you observed in this part of the investigation. How did the feature(s) of interest vary with other features in the dataset?\n",
    "\n",
    "> What I found intresting is that customers are using the service more than the Subscriber. Males use the service more than others.\n",
    "\n",
    "### Did you observe any interesting relationships between the other features (not the main feature(s) of interest)?\n",
    "\n",
    "> No."
   ]
  },
  {
   "cell_type": "markdown",
   "metadata": {},
   "source": [
    "## Multivariate Exploration\n"
   ]
  },
  {
   "cell_type": "code",
   "execution_count": 40,
   "metadata": {
    "scrolled": false
   },
   "outputs": [
    {
     "data": {
      "image/png": "[encoded data removed]",
      "text/plain": [
       "<Figure size 576x432 with 1 Axes>"
      ]
     },
     "metadata": {
      "needs_background": "light"
     },
     "output_type": "display_data"
    }
   ],
   "source": [
    "fig = plt.figure(figsize = [8,6]) # using point plot to vizalise the 3 varibles (duration , type of use , gender) relationship\n",
    "ax = sb.pointplot(data = df, y = 'duration_sec', x = 'member_gender', hue = 'user_type',\n",
    "           palette = 'Blues', linestyles = '', dodge = 0.4)\n",
    "plt.title('1-carat diamond prices across cut and clarity')\n",
    "plt.title('Duration of use across gender and user type')\n",
    "plt.ylabel('Duration in Seconds')\n",
    "plt.show();"
   ]
  },
  {
   "cell_type": "markdown",
   "metadata": {},
   "source": [
    "### Talk about some of the relationships you observed in this part of the investigation. Were there features that strengthened each other in terms of looking at your feature(s) of interest?\n",
    "\n",
    ">I used the 3 varibles (duration , type of use , gender) and plot them to discover that customers use the service with longer duration in all case of genders.\n",
    "### Were there any interesting or surprising interactions between features?\n",
    "\n",
    "> What is surprising is that customers use the service with longer duration than subscribers, you think that people that put the effort to subscribe will use the service more than people that are not"
   ]
  }
 ],
 "metadata": {
  "kernelspec": {
   "display_name": "Python 3",
   "language": "python",
   "name": "python3"
  },
  "language_info": {
   "codemirror_mode": {
    "name": "ipython",
    "version": 3
   },
   "file_extension": ".py",
   "mimetype": "text/x-python",
   "name": "python",
   "nbconvert_exporter": "python",
   "pygments_lexer": "ipython3",
   "version": "3.8.8"
  }
 },
 "nbformat": 4,
 "nbformat_minor": 2
}
